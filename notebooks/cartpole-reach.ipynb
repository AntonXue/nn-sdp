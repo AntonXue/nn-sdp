{
 "cells": [
  {
   "cell_type": "code",
   "execution_count": 1,
   "id": "2e87498d",
   "metadata": {},
   "outputs": [
    {
     "name": "stdout",
     "output_type": "stream",
     "text": [
      "load done: 16.176\n"
     ]
    }
   ],
   "source": [
    "using Distributions\n",
    "using LinearAlgebra\n",
    "using Plots\n",
    "using DataFrames\n",
    "using CSV\n",
    "include(\"../experiments/cartpole-reach.jl\")\n",
    ";"
   ]
  },
  {
   "cell_type": "code",
   "execution_count": 2,
   "id": "b3131fff",
   "metadata": {
    "scrolled": false
   },
   "outputs": [
    {
     "data": {
      "text/plain": [
       "\"/home/antonxue/stuff/nn-sdp/notebooks/../dump/cartpole-reach-outqc\""
      ]
     },
     "execution_count": 2,
     "metadata": {},
     "output_type": "execute_result"
    }
   ],
   "source": [
    "DUMP_DIR = joinpath(@__DIR__, \"..\", \"dump\", \"cartpole-reach-outqc\")"
   ]
  },
  {
   "cell_type": "code",
   "execution_count": 3,
   "id": "eaf05c36",
   "metadata": {},
   "outputs": [
    {
     "data": {
      "text/plain": [
       "randomNeuralCartpoleTrajs (generic function with 1 method)"
      ]
     },
     "execution_count": 3,
     "metadata": {},
     "output_type": "execute_result"
    }
   ],
   "source": [
    "# Utility functions for the cartpole plotting\n",
    "function cartpole_dynamics(z::Vector, F::Real; m_cart=0.25, m_pole=0.1, l=0.4, g=9.81)\n",
    "  @assert length(z) == 4\n",
    "  x, dx, θ, dθ = z[1], z[2], z[3], z[4]\n",
    "  M = m_pole + m_cart\n",
    "  ddθ_top = g*sin(θ) + cos(θ) * ((-F - m_pole * l * dθ^2 * sin(θ)) / M)\n",
    "  ddθ_bot = l * ((4/3) - (m_pole * cos(θ)^2 / M))\n",
    "  ddθ = ddθ_top / ddθ_bot\n",
    "  ddx_top = F + m_pole * l * (dθ^2 * sin(θ) - ddθ*cos(θ))\n",
    "  ddx = ddx_top / M\n",
    "  dz = [dx; ddx; dθ; ddθ]\n",
    "  return dz\n",
    "end\n",
    "\n",
    "function cartpoleTraj(z1::Vector, T; dt = 0.05)\n",
    "  zs = [z1]\n",
    "  zt = z1\n",
    "  for t in 2:T\n",
    "    dzt = cartpole_dynamics(zt, 0.0)\n",
    "    zt = zt + dt*zt\n",
    "    push!(zs, zt)\n",
    "  end\n",
    "  return zs\n",
    "end\n",
    "\n",
    "function randx1(xmin, xmax)\n",
    "  x1 = rand(Uniform(xmin[1], xmax[1]))\n",
    "  x2 = rand(Uniform(xmin[2], xmax[2]))\n",
    "  x3 = rand(Uniform(xmin[3], xmax[3]))\n",
    "  x4 = rand(Uniform(xmin[4], xmax[4]))\n",
    "  return Vector{Float64}([x1; x2; x3; x4])\n",
    "end\n",
    "\n",
    "function randomCartpoleTrajs(xmin, xmax, T; N = 1000)\n",
    "  trajs = Vector{Any}()\n",
    "  for n in 1:N\n",
    "    z1 = randx1(xmin, xmax)\n",
    "    traj = cartpoleTraj(z1, T)\n",
    "    push!(trajs, traj)\n",
    "  end\n",
    "  return trajs\n",
    "end\n",
    "\n",
    "function runFeedFwdNetTraj(ffnet, x1, T)\n",
    "  xs, xt = [x1], x1\n",
    "  for t in 2:T\n",
    "    xt = evalNet(ffnet, xt)\n",
    "    push!(xs, xt)\n",
    "  end\n",
    "  return xs\n",
    "end\n",
    "\n",
    "function randomNeuralCartpoleTrajs(xmin, xmax, T; N = 1000)\n",
    "  trajs = Vector{Any}()\n",
    "  for n in 1:N\n",
    "    z1 = randx1(xmin, xmax)\n",
    "    traj = runFeedFwdNetTraj(ffnet_cartpole, z1, T)\n",
    "    push!(trajs, traj)\n",
    "  end\n",
    "  return trajs\n",
    "end"
   ]
  },
  {
   "cell_type": "code",
   "execution_count": null,
   "id": "b007b4d7",
   "metadata": {},
   "outputs": [],
   "source": []
  },
  {
   "cell_type": "code",
   "execution_count": 4,
   "id": "2edc17bc",
   "metadata": {},
   "outputs": [
    {
     "ename": "LoadError",
     "evalue": "BoundsError: attempt to access 8-element Vector{Float64} at index [9]",
     "output_type": "error",
     "traceback": [
      "BoundsError: attempt to access 8-element Vector{Float64} at index [9]",
      "",
      "Stacktrace:",
      "  [1] getindex",
      "    @ ./array.jl:861 [inlined]",
      "  [2] (::var\"#10#12\"{Vector{Float64}, Vector{Float64}, Vector{Float64}})(t::Int64)",
      "    @ Main ./none:0",
      "  [3] iterate",
      "    @ ./generator.jl:47 [inlined]",
      "  [4] collect_to!(dest::Vector{Vector{Float64}}, itr::Base.Generator{UnitRange{Int64}, var\"#10#12\"{Vector{Float64}, Vector{Float64}, Vector{Float64}}}, offs::Int64, st::Int64)",
      "    @ Base ./array.jl:782",
      "  [5] collect_to_with_first!(dest::Vector{Vector{Float64}}, v1::Vector{Float64}, itr::Base.Generator{UnitRange{Int64}, var\"#10#12\"{Vector{Float64}, Vector{Float64}, Vector{Float64}}}, st::Int64)",
      "    @ Base ./array.jl:760",
      "  [6] collect(itr::Base.Generator{UnitRange{Int64}, var\"#10#12\"{Vector{Float64}, Vector{Float64}, Vector{Float64}}})",
      "    @ Base ./array.jl:734",
      "  [7] loadBounds(β::Int64)",
      "    @ Main ./In[4]:21",
      "  [8] top-level scope",
      "    @ In[4]:26",
      "  [9] eval",
      "    @ ./boot.jl:373 [inlined]",
      " [10] include_string(mapexpr::typeof(REPL.softscope), mod::Module, code::String, filename::String)",
      "    @ Base ./loading.jl:1196"
     ]
    }
   ],
   "source": [
    "function loadDataFrame(β, dim)\n",
    "    suffix = if (β == 0); \"deepsdp__dual.csv\" else \"chordal__double_decomp.csv\" end\n",
    "    # suffix = \"chordal__double_decomp.csv\"\n",
    "    filepath = joinpath(DUMP_DIR, \"cartpole_beta$(β)_dim$(dim)_\" * suffix)\n",
    "    return CSV.File(filepath)\n",
    "end\n",
    "\n",
    "function loadBounds(β)\n",
    "    csv1 = loadDataFrame(β, 1)\n",
    "    csv2 = loadDataFrame(β, 2)\n",
    "    csv3 = loadDataFrame(β, 3)\n",
    "    csv4 = loadDataFrame(β, 4)\n",
    "    \n",
    "    x1mins, x1maxs = -1*csv1.neg_val, csv1.pos_val\n",
    "    x2mins, x2maxs = -1*csv2.neg_val, csv2.pos_val\n",
    "    x3maxs, x3maxs = -1*csv3.neg_val, csv3.pos_val\n",
    "    x4mins, x4maxs = -1*csv4.neg_val, csv4.pos_val\n",
    "    @assert length(x1mins) == length(x1maxs) == length(x2mins) == length(x2maxs)\n",
    "    @assert length(x3maxs) == length(x3maxs) == length(x4mins) == length(x4maxs)\n",
    "    @assert length(x2mins) == length(x3maxs)\n",
    "    \n",
    "    xmins = [[x1mins[t]; x2mins[t]; x3maxs[t]; x4mins[t]] for t in 1:length(ts)]\n",
    "    xmaxs = [[x1maxs[t]; x2maxs[t]; x3maxs[t]; x4maxs[t]] for t in 1:length(ts)]\n",
    "    return xmins, xmaxs\n",
    "end\n",
    "\n",
    "β0mins, β0maxs = loadBounds(0)\n",
    "β1mins, β1maxs = loadBounds(1)\n",
    "# β2mins, β2maxs = loadBounds(2)\n",
    "# β3mins, β3maxs = loadBounds(3)\n",
    "# β4mins, β4maxs = loadBounds(4)\n",
    "\n",
    "ts = 1:8\n",
    "\n",
    "β0_a_minmaxs = [(β0mins[t][1:2], β0maxs[t][1:2]) for t in ts]\n",
    "β0_b_minmaxs = [(β0mins[t][3:4], β0maxs[t][3:4]) for t in ts]\n",
    "\n",
    "β1_a_minmaxs = [(β1mins[t][1:2], β1maxs[t][1:2]) for t in ts]\n",
    "β1_b_minmaxs = [(β1mins[t][3:4], β1maxs[t][3:4]) for t in ts]\n",
    "\n",
    "# β2_a_minmaxs = [(β2mins[t][1:2], β2maxs[t][1:2]) for t in ts]\n",
    "# β2_b_minmaxs = [(β2mins[t][3:4], β2maxs[t][3:4]) for t in ts]\n",
    "\n",
    "# β3_a_minmaxs = [(β3mins[t][1:2], β3maxs[t][1:2]) for t in ts]\n",
    "# β3_b_minmaxs = [(β3mins[t][3:4], β3maxs[t][3:4]) for t in ts]\n",
    "\n",
    "# β4_a_minmaxs = [(β4mins[t][1:2], β4maxs[t][1:2]) for t in ts]\n",
    "# β4_b_minmaxs = [(β4mins[t][3:4], β4maxs[t][3:4]) for t in ts]\n",
    ";"
   ]
  },
  {
   "cell_type": "code",
   "execution_count": 5,
   "id": "c8288462",
   "metadata": {
    "scrolled": true
   },
   "outputs": [
    {
     "data": {
      "text/plain": [
       "plotTrajBoxes! (generic function with 2 methods)"
      ]
     },
     "execution_count": 5,
     "metadata": {},
     "output_type": "execute_result"
    }
   ],
   "source": [
    "function plotBox2D!(plt, xmin, xmax; kwargs...)\n",
    "    @assert length(xmin) == length(xmax) == 2\n",
    "    x1min, x1max = xmin[1], xmax[1]\n",
    "    x2min, x2max = xmin[2], xmax[2]\n",
    "    verts = Vector{VecReal}()\n",
    "    \n",
    "    push!(verts, [x1min; x2min])\n",
    "    push!(verts, [x1min; x2max])\n",
    "    push!(verts, [x1max; x2max])\n",
    "    push!(verts, [x1max; x2min])\n",
    "    push!(verts, verts[1])\n",
    "    \n",
    "    plt = Utils.plotSeqPoints!(plt, verts; kwargs...)\n",
    "    return plt\n",
    "end\n",
    "\n",
    "function plotTrajBoxes!(plt, β, mode=:x1x2; kwargs...)\n",
    "    if β == 0; lbs, ubs = β0_lbs, β0_ubs\n",
    "    elseif β == 1; lbs, ubs = β1_lbs, β1_ubs\n",
    "    elseif β == 2; lbs, ubs = β2_lbs, β2_ubs\n",
    "    elseif β == 3; lbs, ubs = β3_lbs, β3_ubs\n",
    "    elseif β == 4; lbs, ubs = β4_lbs, β4_ubs\n",
    "    else error(\"unsupported β: $(β)\")\n",
    "    end\n",
    "    \n",
    "    @assert length(lbs) == length(ubs)\n",
    "    \n",
    "    if mode == :x1x2; min_maxes = [(lbs[t][1:2], ubs[t][1:2]) for t in 1:8]\n",
    "    elseif mode == :x3x4; min_maxes = [(lbs[t][3:4], ubs[t][3:4]) for t in 1:8]\n",
    "    else error(\"unsupported mode: $(mode)\")\n",
    "    end\n",
    "    \n",
    "    my_plt = plt\n",
    "    # The initial conditions\n",
    "    if mode == :x1x2; plotBox2D!(my_plt, x1min[1:2], x1max[1:2]; kwargs...) \n",
    "    else; plotBox2D!(my_plt, x1min[3:4], x1max[3:4]; kwargs...)\n",
    "    end\n",
    "    \n",
    "    for (xmin, xmax) in min_maxes\n",
    "        my_plt = plotBox2D!(my_plt, xmin, xmax; kwargs...)\n",
    "    end\n",
    "    return my_plt\n",
    "end"
   ]
  },
  {
   "cell_type": "code",
   "execution_count": 6,
   "id": "10262705",
   "metadata": {},
   "outputs": [],
   "source": [
    "# trajs = randomCartpoleTrajs(x1min, x1max, 8)\n",
    "trajs = randomNeuralCartpoleTrajs(x1min, x1max, 8)\n",
    ";"
   ]
  },
  {
   "cell_type": "code",
   "execution_count": 7,
   "id": "fe9e27e5",
   "metadata": {
    "scrolled": true
   },
   "outputs": [
    {
     "ename": "LoadError",
     "evalue": "UndefVarError: β0_lbs not defined",
     "output_type": "error",
     "traceback": [
      "UndefVarError: β0_lbs not defined",
      "",
      "Stacktrace:",
      " [1] plotTrajBoxes!(plt::Plots.Plot{Plots.PyPlotBackend}, β::Int64, mode::Symbol; kwargs::Base.Pairs{Symbol, Symbol, Tuple{Symbol}, NamedTuple{(:color,), Tuple{Symbol}}})",
      "   @ Main ./In[5]:18",
      " [2] top-level scope",
      "   @ In[7]:6",
      " [3] eval",
      "   @ ./boot.jl:373 [inlined]",
      " [4] include_string(mapexpr::typeof(REPL.softscope), mod::Module, code::String, filename::String)",
      "   @ Base ./loading.jl:1196"
     ]
    }
   ],
   "source": [
    "plt = plot()\n",
    "for n in 1:50\n",
    "   Utils.plotSeqPoints!(plt, [t[1:2] for t in trajs[n]], color=:gray)\n",
    "end\n",
    "plt = plot!(plt, legend=false)\n",
    "plotTrajBoxes!(plt, 0, :x1x2, color=:red)\n",
    "plotTrajBoxes!(plt, 4, :x1x2, color=:blue)"
   ]
  },
  {
   "cell_type": "code",
   "execution_count": null,
   "id": "765863b4",
   "metadata": {},
   "outputs": [],
   "source": []
  },
  {
   "cell_type": "code",
   "execution_count": 8,
   "id": "5e0c2dc6",
   "metadata": {},
   "outputs": [
    {
     "ename": "LoadError",
     "evalue": "UndefVarError: β0_lbs not defined",
     "output_type": "error",
     "traceback": [
      "UndefVarError: β0_lbs not defined",
      "",
      "Stacktrace:",
      " [1] plotTrajBoxes!(plt::Plots.Plot{Plots.PyPlotBackend}, β::Int64, mode::Symbol; kwargs::Base.Pairs{Symbol, Symbol, Tuple{Symbol}, NamedTuple{(:color,), Tuple{Symbol}}})",
      "   @ Main ./In[5]:18",
      " [2] top-level scope",
      "   @ In[8]:6",
      " [3] eval",
      "   @ ./boot.jl:373 [inlined]",
      " [4] include_string(mapexpr::typeof(REPL.softscope), mod::Module, code::String, filename::String)",
      "   @ Base ./loading.jl:1196"
     ]
    }
   ],
   "source": [
    "plt = plot()\n",
    "for n in 1:50\n",
    "   Utils.plotSeqPoints!(plt, [t[3:4] for t in trajs[n]], color=:gray)\n",
    "end\n",
    "plt = plot!(plt, legend=false)\n",
    "plotTrajBoxes!(plt, 0, :x3x4, color=:red)\n",
    "# plotTrajBoxes!(plt, 4, :x3x4, color=:blue)"
   ]
  },
  {
   "cell_type": "code",
   "execution_count": null,
   "id": "4c663d72",
   "metadata": {},
   "outputs": [],
   "source": []
  },
  {
   "cell_type": "code",
   "execution_count": null,
   "id": "ce58a341",
   "metadata": {},
   "outputs": [],
   "source": []
  },
  {
   "cell_type": "code",
   "execution_count": null,
   "id": "2b83fedc",
   "metadata": {},
   "outputs": [],
   "source": []
  },
  {
   "cell_type": "code",
   "execution_count": null,
   "id": "20874a86",
   "metadata": {},
   "outputs": [],
   "source": []
  },
  {
   "cell_type": "code",
   "execution_count": null,
   "id": "1068b856",
   "metadata": {},
   "outputs": [],
   "source": []
  },
  {
   "cell_type": "code",
   "execution_count": null,
   "id": "4488911a",
   "metadata": {},
   "outputs": [],
   "source": []
  }
 ],
 "metadata": {
  "kernelspec": {
   "display_name": "Julia 1.7.2",
   "language": "julia",
   "name": "julia-1.7"
  },
  "language_info": {
   "file_extension": ".jl",
   "mimetype": "application/julia",
   "name": "julia",
   "version": "1.7.2"
  }
 },
 "nbformat": 4,
 "nbformat_minor": 5
}
