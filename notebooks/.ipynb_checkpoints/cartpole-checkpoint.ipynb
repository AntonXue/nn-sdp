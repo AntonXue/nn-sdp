{
 "cells": [
  {
   "cell_type": "code",
   "execution_count": 1,
   "id": "2e87498d",
   "metadata": {},
   "outputs": [
    {
     "name": "stdout",
     "output_type": "stream",
     "text": [
      "load done: 15.454\n"
     ]
    }
   ],
   "source": [
    "using Distributions\n",
    "using LinearAlgebra\n",
    "using Plots\n",
    "using DataFrames\n",
    "using CSV\n",
    "include(\"../experiments/cartpole.jl\")\n",
    ";"
   ]
  },
  {
   "cell_type": "code",
   "execution_count": 2,
   "id": "b3131fff",
   "metadata": {
    "scrolled": true
   },
   "outputs": [
    {
     "data": {
      "text/plain": [
       "\"/home/antonxue/stuff/nn-sdp/notebooks/../dump/cartpole\""
      ]
     },
     "execution_count": 2,
     "metadata": {},
     "output_type": "execute_result"
    }
   ],
   "source": [
    "DUMP_DIR = joinpath(@__DIR__, \"..\", \"dump\", \"cartpole\")"
   ]
  },
  {
   "cell_type": "code",
   "execution_count": 3,
   "id": "2edc17bc",
   "metadata": {},
   "outputs": [],
   "source": [
    "function loadDataFrame(β, dim)\n",
    "    suffix = if (β == 0); \"deepsdp__dual.csv\" else \"chordal__double_decomp.csv\" end\n",
    "    filepath = joinpath(DUMP_DIR, \"cartpole_beta$(β)_dim$(dim)_\" * suffix)\n",
    "    return CSV.File(filepath)\n",
    "end\n",
    "\n",
    "function loadBounds(β)\n",
    "    csv1 = loadDataFrame(β, 1)\n",
    "    csv2 = loadDataFrame(β, 2)\n",
    "    csv3 = loadDataFrame(β, 3)\n",
    "    csv4 = loadDataFrame(β, 4)\n",
    "    \n",
    "    x1_lbs, x1_ubs = -1*csv1.neg_val, csv1.pos_val\n",
    "    x2_lbs, x2_ubs = -1*csv2.neg_val, csv2.pos_val\n",
    "    x3_lbs, x3_ubs = -1*csv3.neg_val, csv3.pos_val\n",
    "    x4_lbs, x4_ubs = -1*csv4.neg_val, csv4.pos_val\n",
    "    @assert length(x1_lbs) == length(x1_ubs) == length(x2_lbs) == length(x2_ubs)\n",
    "    @assert length(x3_lbs) == length(x3_ubs) == length(x4_lbs) == length(x4_ubs)\n",
    "    @assert length(x2_lbs) == length(x3_lbs)\n",
    "    \n",
    "    x_lbs = [[x1_lbs[t]; x2_lbs[t]; x3_lbs[t]; x4_lbs[t]] for t in 1:length(ts)]\n",
    "    x_ubs = [[x1_ubs[t]; x2_ubs[t]; x3_ubs[t]; x4_ubs[t]] for t in 1:length(ts)]\n",
    "    return x_lbs, x_ubs\n",
    "end\n",
    "\n",
    "β0_lbs, β0_ubs = loadBounds(0)\n",
    "β1_lbs, β1_ubs = loadBounds(1)\n",
    "β2_lbs, β2_ubs = loadBounds(2)\n",
    "β3_lbs, β3_ubs = loadBounds(3)\n",
    "β4_lbs, β4_ubs = loadBounds(4)\n",
    "\n",
    "ts = 1:8\n",
    "\n",
    "β0_a_minmaxs = [(β0_lbs[t][1:2], β0_ubs[t][1:2]) for t in ts]\n",
    "β0_b_minmaxs = [(β0_lbs[t][3:4], β0_ubs[t][3:4]) for t in ts]\n",
    "\n",
    "β1_a_minmaxs = [(β1_lbs[t][1:2], β1_ubs[t][1:2]) for t in ts]\n",
    "β1_b_minmaxs = [(β1_lbs[t][3:4], β1_ubs[t][3:4]) for t in ts]\n",
    "\n",
    "β2_a_minmaxs = [(β2_lbs[t][1:2], β2_ubs[t][1:2]) for t in ts]\n",
    "β2_b_minmaxs = [(β2_lbs[t][3:4], β2_ubs[t][3:4]) for t in ts]\n",
    "\n",
    "β3_a_minmaxs = [(β3_lbs[t][1:2], β3_ubs[t][1:2]) for t in ts]\n",
    "β3_b_minmaxs = [(β3_lbs[t][3:4], β3_ubs[t][3:4]) for t in ts]\n",
    "\n",
    "β4_a_minmaxs = [(β4_lbs[t][1:2], β4_ubs[t][1:2]) for t in ts]\n",
    "β4_b_minmaxs = [(β4_lbs[t][3:4], β4_ubs[t][3:4]) for t in ts]\n",
    ";"
   ]
  },
  {
   "cell_type": "code",
   "execution_count": 4,
   "id": "6703782b",
   "metadata": {
    "scrolled": true
   },
   "outputs": [
    {
     "data": {
      "text/plain": [
       "plotTrajBoxes! (generic function with 2 methods)"
      ]
     },
     "execution_count": 4,
     "metadata": {},
     "output_type": "execute_result"
    }
   ],
   "source": [
    "function plotBox2D!(plt, xmin, xmax; kwargs...)\n",
    "    @assert length(xmin) == length(xmax) == 2\n",
    "    x1min, x1max = xmin[1], xmax[1]\n",
    "    x2min, x2max = xmin[2], xmax[2]\n",
    "    verts = Vector{VecReal}()\n",
    "    \n",
    "    push!(verts, [x1min; x2min])\n",
    "    push!(verts, [x1min; x2max])\n",
    "    push!(verts, [x1max; x2max])\n",
    "    push!(verts, [x1max; x2min])\n",
    "    push!(verts, verts[1])\n",
    "    \n",
    "    plt = Utils.plotSeqPoints!(plt, verts; kwargs...)\n",
    "    return plt\n",
    "end\n",
    "\n",
    "function plotTrajBoxes!(plt, β, mode=:a; kwargs...)\n",
    "    if β == 0; lbs, ubs = β0_lbs, β0_ubs\n",
    "    elseif β == 1; lbs, ubs = β1_lbs, β1_ubs\n",
    "    elseif β == 2; lbs, ubs = β2_lbs, β2_ubs\n",
    "    elseif β == 3; lbs, ubs = β3_lbs, β3_ubs\n",
    "    elseif β == 4; lbs, ubs = β4_lbs, β4_ubs\n",
    "    else error(\"unsupported β: $(β)\")\n",
    "    end\n",
    "    \n",
    "    @assert length(lbs) == length(ubs)\n",
    "    \n",
    "    if mode == :a; min_maxes = [(lbs[t][1:2], ubs[t][1:2]) for t in 1:8]\n",
    "    elseif mode == :b; min_maxes = [(lbs[t][3:4], ubs[t][3:4]) for t in 1:8]\n",
    "    else error(\"unsupported mode: $(mode)\")\n",
    "    end\n",
    "    \n",
    "    my_plt = plt\n",
    "    for (xmin, xmax) in min_maxes\n",
    "        my_plt = plotBox2D!(my_plt, xmin, xmax; kwargs...)\n",
    "    end\n",
    "    return my_plt\n",
    "end"
   ]
  },
  {
   "cell_type": "code",
   "execution_count": 27,
   "id": "2e3c0cd8",
   "metadata": {},
   "outputs": [],
   "source": [
    "# trajs = randomCartpoleTrajs(x1min, x1max, 8)\n",
    "trajs = randomNeuralCartpoleTrajs(x1min, x1max, 8)\n",
    ";"
   ]
  },
  {
   "cell_type": "code",
   "execution_count": 29,
   "id": "4e4866c8",
   "metadata": {
    "scrolled": true
   },
   "outputs": [
    {
     "data": {
      "image/png": "[encoded data removed]"
     },
     "execution_count": 29,
     "metadata": {},
     "output_type": "execute_result"
    }
   ],
   "source": [
    "plt = plot()\n",
    "for n in 1:50\n",
    "   Utils.plotSeqPoints!(plt, [t[1:2] for t in trajs[n]], color=:gray)\n",
    "end\n",
    "plt = plot!(plt, legend=false)\n",
    "plotTrajBoxes!(plt, 0, :a)"
   ]
  },
  {
   "cell_type": "code",
   "execution_count": null,
   "id": "390c9f82",
   "metadata": {},
   "outputs": [],
   "source": []
  },
  {
   "cell_type": "code",
   "execution_count": 30,
   "id": "9c6ed01d",
   "metadata": {},
   "outputs": [
    {
     "data": {
      "image/png": "[encoded data removed]"
     },
     "execution_count": 30,
     "metadata": {},
     "output_type": "execute_result"
    }
   ],
   "source": [
    "plt = plot()\n",
    "for n in 1:50\n",
    "   Utils.plotSeqPoints!(plt, [t[3:4] for t in trajs[n]], color=:gray)\n",
    "end\n",
    "plt = plot!(plt, legend=false)\n",
    "plotTrajBoxes!(plt, 0, :b)"
   ]
  },
  {
   "cell_type": "code",
   "execution_count": null,
   "id": "c3771f0c",
   "metadata": {},
   "outputs": [],
   "source": []
  },
  {
   "cell_type": "code",
   "execution_count": 23,
   "id": "a89c9018",
   "metadata": {},
   "outputs": [
    {
     "data": {
      "text/plain": [
       "8-element Vector{Tuple{Vector{Float64}, Vector{Float64}}}:\n",
       " ([3.21703145119759e-11, 7.08848296982675e-10], [2.224280900460863, 1.501691452029816])\n",
       " ([2.232937584577102e-9, 4.158371367153714e-8], [2.2889094051556422, 1.506588846461149])\n",
       " ([1.0196640937271357e-11, 4.086002954371109e-9], [2.344905136488377, 1.5061652055072667])\n",
       " ([4.928799631509348e-15, 1.3747289084180452e-14], [2.408991313053343, 1.509375357644951])\n",
       " ([1.3694557449377402e-14, 4.832323493780212e-8], [2.497113239194011, 1.5208733799752034])\n",
       " ([2.570741063998004e-12, 7.613411872812584e-10], [2.6058661230630022, 1.5446052670885342])\n",
       " ([2.172941412036983e-14, 4.1023340354367164e-13], [2.744428209670958, 1.5511742222757257])\n",
       " ([3.2406600496384223e-9, 9.228664898885594e-10], [2.9252062806603054, 1.5694345398379692])"
      ]
     },
     "execution_count": 23,
     "metadata": {},
     "output_type": "execute_result"
    }
   ],
   "source": [
    "β0_a_minmaxs"
   ]
  },
  {
   "cell_type": "code",
   "execution_count": 24,
   "id": "c0aba514",
   "metadata": {},
   "outputs": [
    {
     "data": {
      "text/plain": [
       "8-element Vector{Tuple{Vector{Float64}, Vector{Float64}}}:\n",
       " ([-0.41580054377173714, -1.4714445904376943], [1.3032791932384846e-6, -7.685946637297451e-10])\n",
       " ([-0.47772223123198265, -1.6717479029018802], [-5.9155824128560875e-8, -7.113337090829922e-13])\n",
       " ([-0.5635402258196993, -1.9287563496911317], [-6.17800579723547e-11, -2.4084349668916572e-9])\n",
       " ([-0.6757683764549581, -2.2395163793113246], [-2.2952278623779955e-9, -8.62013458301172e-12])\n",
       " ([-0.8389494817703519, -2.6709163803143325], [-6.917623572364747e-8, -2.1835807543873795e-9])\n",
       " ([-1.030822696364604, -3.2040929644469403], [-1.0015273426269518e-7, -5.519224563530323e-8])\n",
       " ([-1.2274588221651035, -3.8841896915178586], [-1.53794442088837e-12, -5.097296846443326e-8])\n",
       " ([-1.4751573074667765, -4.773938406709018], [-1.1204036741936245e-9, -3.311459175346311e-8])"
      ]
     },
     "execution_count": 24,
     "metadata": {},
     "output_type": "execute_result"
    }
   ],
   "source": [
    "β0_b_minmaxs"
   ]
  },
  {
   "cell_type": "code",
   "execution_count": null,
   "id": "8794e274",
   "metadata": {},
   "outputs": [],
   "source": []
  }
 ],
 "metadata": {
  "kernelspec": {
   "display_name": "Julia 1.7.2",
   "language": "julia",
   "name": "julia-1.7"
  },
  "language_info": {
   "file_extension": ".jl",
   "mimetype": "application/julia",
   "name": "julia",
   "version": "1.7.2"
  }
 },
 "nbformat": 4,
 "nbformat_minor": 5
}
