{
 "cells": [
  {
   "cell_type": "code",
   "execution_count": 1,
   "id": "04c2bf41",
   "metadata": {},
   "outputs": [],
   "source": [
    "using LinearAlgebra\n",
    "using Plots"
   ]
  },
  {
   "cell_type": "code",
   "execution_count": 2,
   "id": "ec10b122",
   "metadata": {},
   "outputs": [],
   "source": [
    "DUMP_DIR = joinpath(@__DIR__, \"..\", \"dump\", \"sparsity\")\n",
    "NNSDP_PATH = joinpath(@__DIR__, \"..\", \"src\", \"NnSdp.jl\")\n",
    "include(NNSDP_PATH); using .NnSdp"
   ]
  },
  {
   "cell_type": "code",
   "execution_count": null,
   "id": "96c4bba9",
   "metadata": {},
   "outputs": [],
   "source": []
  },
  {
   "cell_type": "code",
   "execution_count": 3,
   "id": "9436e8db",
   "metadata": {},
   "outputs": [],
   "source": [
    "# colors = theme_palette(:auto)\n",
    "colors = palette(:tab10)\n",
    "\n",
    "xdims = [3;3;3;3;4;3;3]\n",
    "ffnet = randomNetwork(xdims)\n",
    "zdims = ffnet.zdims\n",
    "N = sum(zdims[1:end-1])\n",
    "K = ffnet.K\n",
    "\n",
    "S(k) = sum(ffnet.xdims[1:k])\n",
    "\n",
    "E1 = E(1, ffnet.zdims)\n",
    "EK = E(K, ffnet.zdims)\n",
    "Ea = E(K+1, ffnet.zdims)\n",
    "Ein = [E1; Ea]\n",
    "Eout = [E1; EK; Ea]\n",
    ";"
   ]
  },
  {
   "cell_type": "code",
   "execution_count": null,
   "id": "06ef3d6d",
   "metadata": {},
   "outputs": [],
   "source": []
  },
  {
   "cell_type": "code",
   "execution_count": 4,
   "id": "e60666fa",
   "metadata": {},
   "outputs": [
    {
     "data": {
      "text/plain": [
       "quickRawZ (generic function with 1 method)"
      ]
     },
     "execution_count": 4,
     "metadata": {},
     "output_type": "execute_result"
    }
   ],
   "source": [
    "hots(X) = map(x -> (x != 0), X)\n",
    "\n",
    "function quickEM(beta)\n",
    "  Z = zeros(N+1, N+1)\n",
    "  for k = 1:K-1\n",
    "    for i = 1:N\n",
    "      for j = 1:N\n",
    "        Z[i,j] += ((S(k-1)+1 <= i <= S(k+1)+beta)\n",
    "                && (S(k-1)+1 <= j <= S(k+1)+beta))\n",
    "      end\n",
    "    end\n",
    "  end\n",
    "  return hots(Z)\n",
    "end\n",
    "\n",
    "function quickE1K()\n",
    "  Z = zeros(N+1, N+1)\n",
    "  for i in 1:N\n",
    "    for j in 1:N\n",
    "      Z[i,j] += ((1 <= i <= xdims[1] && S(K-1)+1 <= j <= N)\n",
    "               || (1 <= j <= xdims[1] && S(K-1)+1 <= i <= N))\n",
    "    end\n",
    "  end\n",
    "  return hots(Z)\n",
    "end\n",
    "\n",
    "function quickEK()\n",
    "  Z = zeros(N+1, N+1)\n",
    "  for i in 1:N\n",
    "    for j in 1:N\n",
    "      Z[i,j] += (S(K-1)+1 <= j <= N) || (S(K-1)+1 <= i <= N)\n",
    "    end\n",
    "  end\n",
    "  return hots(Z)\n",
    "end\n",
    "\n",
    "function quickEa()\n",
    "  Z = zeros(N+1, N+1)\n",
    "  for i in 1:N+1\n",
    "    for j in 1:N+1\n",
    "      Z[i,j] += (i == N+1) || (j == N+1)\n",
    "    end\n",
    "  end\n",
    "  return hots(Z)\n",
    "end\n",
    "\n",
    "function quickRawZ(beta)\n",
    "  return quickEM(beta) + quickE1K() + quickEa()\n",
    "end\n"
   ]
  },
  {
   "cell_type": "code",
   "execution_count": null,
   "id": "80f84407",
   "metadata": {},
   "outputs": [],
   "source": []
  },
  {
   "cell_type": "code",
   "execution_count": 5,
   "id": "6fcd85bd",
   "metadata": {},
   "outputs": [
    {
     "data": {
      "image/png": "[encoded data removed]"
     },
     "execution_count": 5,
     "metadata": {},
     "output_type": "execute_result"
    }
   ],
   "source": [
    "beta = 0\n",
    "plt = spy(quickEM(beta), marker=(:square, 8.0, colors[1]), axis=([], false))\n",
    "spy!(quickE1K(), marker=(:square, 8.0, colors[2]), axis=([], false))\n",
    "spy!(quickEa(), marker=(:square, 8.0, colors[3]), axis=([], false))"
   ]
  },
  {
   "cell_type": "code",
   "execution_count": 6,
   "id": "92058fa2",
   "metadata": {},
   "outputs": [
    {
     "ename": "LoadError",
     "evalue": "SystemError: opening file \"/home/antonxue/stuff/nn-sdp/dump/sparsity/Zrawbeta0.png\": No such file or directory",
     "output_type": "error",
     "traceback": [
      "SystemError: opening file \"/home/antonxue/stuff/nn-sdp/dump/sparsity/Zrawbeta0.png\": No such file or directory",
      "",
      "Stacktrace:",
      "  [1] systemerror(p::String, errno::Int32; extrainfo::Nothing)",
      "    @ Base ./error.jl:174",
      "  [2] #systemerror#68",
      "    @ ./error.jl:173 [inlined]",
      "  [3] systemerror",
      "    @ ./error.jl:173 [inlined]",
      "  [4] open(fname::String; lock::Bool, read::Nothing, write::Nothing, create::Nothing, truncate::Bool, append::Nothing)",
      "    @ Base ./iostream.jl:293",
      "  [5] open(fname::String, mode::String; lock::Bool)",
      "    @ Base ./iostream.jl:355",
      "  [6] open(fname::String, mode::String)",
      "    @ Base ./iostream.jl:355",
      "  [7] open(::Plots.var\"#269#270\"{Plots.Plot{Plots.PyPlotBackend}}, ::String, ::Vararg{String}; kwargs::Base.Pairs{Symbol, Union{}, Tuple{}, NamedTuple{(), Tuple{}}})",
      "    @ Base ./io.jl:328",
      "  [8] open",
      "    @ ./io.jl:328 [inlined]",
      "  [9] png(plt::Plots.Plot{Plots.PyPlotBackend}, fn::String)",
      "    @ Plots ~/.julia/packages/Plots/dNEbX/src/output.jl:5",
      " [10] savefig(plt::Plots.Plot{Plots.PyPlotBackend}, fn::String)",
      "    @ Plots ~/.julia/packages/Plots/dNEbX/src/output.jl:121",
      " [11] top-level scope",
      "    @ In[6]:2",
      " [12] eval",
      "    @ ./boot.jl:373 [inlined]",
      " [13] include_string(mapexpr::typeof(REPL.softscope), mod::Module, code::String, filename::String)",
      "    @ Base ./loading.jl:1196"
     ]
    }
   ],
   "source": [
    "saveto = joinpath(DUMP_DIR, \"Zrawbeta$(beta).png\")\n",
    "savefig(plt, saveto)"
   ]
  },
  {
   "cell_type": "code",
   "execution_count": null,
   "id": "91824612",
   "metadata": {},
   "outputs": [],
   "source": []
  },
  {
   "cell_type": "code",
   "execution_count": 7,
   "id": "3c661907",
   "metadata": {},
   "outputs": [
    {
     "data": {
      "image/png": "[encoded data removed]"
     },
     "execution_count": 7,
     "metadata": {},
     "output_type": "execute_result"
    }
   ],
   "source": [
    "beta = 2\n",
    "plt = spy(quickEM(beta), marker=(:square, 8.0, colors[1]), axis=([], false))\n",
    "spy!(quickE1K(), marker=(:square, 8.0, colors[2]), axis=([], false))\n",
    "spy!(quickEa(), marker=(:square, 8.0, colors[3]), axis=([], false))"
   ]
  },
  {
   "cell_type": "code",
   "execution_count": 8,
   "id": "7341c0d5",
   "metadata": {},
   "outputs": [
    {
     "ename": "LoadError",
     "evalue": "SystemError: opening file \"/home/antonxue/stuff/nn-sdp/dump/sparsity/Zrawbeta2.png\": No such file or directory",
     "output_type": "error",
     "traceback": [
      "SystemError: opening file \"/home/antonxue/stuff/nn-sdp/dump/sparsity/Zrawbeta2.png\": No such file or directory",
      "",
      "Stacktrace:",
      "  [1] systemerror(p::String, errno::Int32; extrainfo::Nothing)",
      "    @ Base ./error.jl:174",
      "  [2] #systemerror#68",
      "    @ ./error.jl:173 [inlined]",
      "  [3] systemerror",
      "    @ ./error.jl:173 [inlined]",
      "  [4] open(fname::String; lock::Bool, read::Nothing, write::Nothing, create::Nothing, truncate::Bool, append::Nothing)",
      "    @ Base ./iostream.jl:293",
      "  [5] open(fname::String, mode::String; lock::Bool)",
      "    @ Base ./iostream.jl:355",
      "  [6] open(fname::String, mode::String)",
      "    @ Base ./iostream.jl:355",
      "  [7] open(::Plots.var\"#269#270\"{Plots.Plot{Plots.PyPlotBackend}}, ::String, ::Vararg{String}; kwargs::Base.Pairs{Symbol, Union{}, Tuple{}, NamedTuple{(), Tuple{}}})",
      "    @ Base ./io.jl:328",
      "  [8] open",
      "    @ ./io.jl:328 [inlined]",
      "  [9] png(plt::Plots.Plot{Plots.PyPlotBackend}, fn::String)",
      "    @ Plots ~/.julia/packages/Plots/dNEbX/src/output.jl:5",
      " [10] savefig(plt::Plots.Plot{Plots.PyPlotBackend}, fn::String)",
      "    @ Plots ~/.julia/packages/Plots/dNEbX/src/output.jl:121",
      " [11] top-level scope",
      "    @ In[8]:2",
      " [12] eval",
      "    @ ./boot.jl:373 [inlined]",
      " [13] include_string(mapexpr::typeof(REPL.softscope), mod::Module, code::String, filename::String)",
      "    @ Base ./loading.jl:1196"
     ]
    }
   ],
   "source": [
    "saveto = joinpath(DUMP_DIR, \"Zrawbeta$(beta).png\")\n",
    "savefig(plt, saveto)"
   ]
  },
  {
   "cell_type": "code",
   "execution_count": null,
   "id": "aad63b3b",
   "metadata": {},
   "outputs": [],
   "source": []
  },
  {
   "cell_type": "code",
   "execution_count": 9,
   "id": "beb4e056",
   "metadata": {},
   "outputs": [
    {
     "data": {
      "image/png": "[encoded data removed]"
     },
     "execution_count": 9,
     "metadata": {},
     "output_type": "execute_result"
    }
   ],
   "source": [
    "beta = 4\n",
    "plt = spy(quickEM(beta), marker=(:square, 8.0, colors[1]), axis=([], false))\n",
    "spy!(quickE1K(), marker=(:square, 8.0, colors[2]), axis=([], false))\n",
    "spy!(quickEa(), marker=(:square, 8.0, colors[3]), axis=([], false))"
   ]
  },
  {
   "cell_type": "code",
   "execution_count": 10,
   "id": "f6a2f6e4",
   "metadata": {},
   "outputs": [
    {
     "ename": "LoadError",
     "evalue": "SystemError: opening file \"/home/antonxue/stuff/nn-sdp/dump/sparsity/Zrawbeta4.png\": No such file or directory",
     "output_type": "error",
     "traceback": [
      "SystemError: opening file \"/home/antonxue/stuff/nn-sdp/dump/sparsity/Zrawbeta4.png\": No such file or directory",
      "",
      "Stacktrace:",
      "  [1] systemerror(p::String, errno::Int32; extrainfo::Nothing)",
      "    @ Base ./error.jl:174",
      "  [2] #systemerror#68",
      "    @ ./error.jl:173 [inlined]",
      "  [3] systemerror",
      "    @ ./error.jl:173 [inlined]",
      "  [4] open(fname::String; lock::Bool, read::Nothing, write::Nothing, create::Nothing, truncate::Bool, append::Nothing)",
      "    @ Base ./iostream.jl:293",
      "  [5] open(fname::String, mode::String; lock::Bool)",
      "    @ Base ./iostream.jl:355",
      "  [6] open(fname::String, mode::String)",
      "    @ Base ./iostream.jl:355",
      "  [7] open(::Plots.var\"#269#270\"{Plots.Plot{Plots.PyPlotBackend}}, ::String, ::Vararg{String}; kwargs::Base.Pairs{Symbol, Union{}, Tuple{}, NamedTuple{(), Tuple{}}})",
      "    @ Base ./io.jl:328",
      "  [8] open",
      "    @ ./io.jl:328 [inlined]",
      "  [9] png(plt::Plots.Plot{Plots.PyPlotBackend}, fn::String)",
      "    @ Plots ~/.julia/packages/Plots/dNEbX/src/output.jl:5",
      " [10] savefig(plt::Plots.Plot{Plots.PyPlotBackend}, fn::String)",
      "    @ Plots ~/.julia/packages/Plots/dNEbX/src/output.jl:121",
      " [11] top-level scope",
      "    @ In[10]:2",
      " [12] eval",
      "    @ ./boot.jl:373 [inlined]",
      " [13] include_string(mapexpr::typeof(REPL.softscope), mod::Module, code::String, filename::String)",
      "    @ Base ./loading.jl:1196"
     ]
    }
   ],
   "source": [
    "saveto = joinpath(DUMP_DIR, \"Zrawbeta$(beta).png\")\n",
    "savefig(plt, saveto)"
   ]
  },
  {
   "cell_type": "code",
   "execution_count": null,
   "id": "7ee0b426",
   "metadata": {},
   "outputs": [],
   "source": []
  },
  {
   "cell_type": "code",
   "execution_count": 11,
   "id": "0f64b0d0",
   "metadata": {},
   "outputs": [
    {
     "data": {
      "image/png": "[encoded data removed]"
     },
     "execution_count": 11,
     "metadata": {},
     "output_type": "execute_result"
    }
   ],
   "source": [
    "beta = 0\n",
    "\n",
    "plt = spy(quickEK(),\n",
    "  marker = (:star5, 8.0, \"red\"),\n",
    "  azis=([], false)\n",
    ")\n",
    "\n",
    "plt = spy!(plt, quickRawZ(beta),\n",
    "  marker = (:square, 8.0, \"gray\"),\n",
    "  axis=([], false),\n",
    ")"
   ]
  },
  {
   "cell_type": "code",
   "execution_count": 12,
   "id": "e0d97d9e",
   "metadata": {},
   "outputs": [
    {
     "ename": "LoadError",
     "evalue": "SystemError: opening file \"/home/antonxue/stuff/nn-sdp/dump/sparsity/Zbeta0.png\": No such file or directory",
     "output_type": "error",
     "traceback": [
      "SystemError: opening file \"/home/antonxue/stuff/nn-sdp/dump/sparsity/Zbeta0.png\": No such file or directory",
      "",
      "Stacktrace:",
      "  [1] systemerror(p::String, errno::Int32; extrainfo::Nothing)",
      "    @ Base ./error.jl:174",
      "  [2] #systemerror#68",
      "    @ ./error.jl:173 [inlined]",
      "  [3] systemerror",
      "    @ ./error.jl:173 [inlined]",
      "  [4] open(fname::String; lock::Bool, read::Nothing, write::Nothing, create::Nothing, truncate::Bool, append::Nothing)",
      "    @ Base ./iostream.jl:293",
      "  [5] open(fname::String, mode::String; lock::Bool)",
      "    @ Base ./iostream.jl:355",
      "  [6] open(fname::String, mode::String)",
      "    @ Base ./iostream.jl:355",
      "  [7] open(::Plots.var\"#269#270\"{Plots.Plot{Plots.PyPlotBackend}}, ::String, ::Vararg{String}; kwargs::Base.Pairs{Symbol, Union{}, Tuple{}, NamedTuple{(), Tuple{}}})",
      "    @ Base ./io.jl:328",
      "  [8] open",
      "    @ ./io.jl:328 [inlined]",
      "  [9] png(plt::Plots.Plot{Plots.PyPlotBackend}, fn::String)",
      "    @ Plots ~/.julia/packages/Plots/dNEbX/src/output.jl:5",
      " [10] savefig(plt::Plots.Plot{Plots.PyPlotBackend}, fn::String)",
      "    @ Plots ~/.julia/packages/Plots/dNEbX/src/output.jl:121",
      " [11] top-level scope",
      "    @ In[12]:2",
      " [12] eval",
      "    @ ./boot.jl:373 [inlined]",
      " [13] include_string(mapexpr::typeof(REPL.softscope), mod::Module, code::String, filename::String)",
      "    @ Base ./loading.jl:1196"
     ]
    }
   ],
   "source": [
    "saveto = joinpath(DUMP_DIR, \"Zbeta$(beta).png\")\n",
    "savefig(plt, saveto)"
   ]
  },
  {
   "cell_type": "code",
   "execution_count": null,
   "id": "3f8476d3",
   "metadata": {},
   "outputs": [],
   "source": []
  },
  {
   "cell_type": "code",
   "execution_count": 13,
   "id": "72bd5772",
   "metadata": {},
   "outputs": [
    {
     "data": {
      "image/png": "[encoded data removed]"
     },
     "execution_count": 13,
     "metadata": {},
     "output_type": "execute_result"
    }
   ],
   "source": [
    "beta = 2\n",
    "\n",
    "plt = spy(quickEK(),\n",
    "  marker = (:star5, 8.0, \"red\"),\n",
    "  azis=([], false)\n",
    ")\n",
    "\n",
    "plt = spy!(plt, quickRawZ(beta),\n",
    "  marker = (:square, 8.0, \"gray\"),\n",
    "  axis=([], false),\n",
    ")"
   ]
  },
  {
   "cell_type": "code",
   "execution_count": 14,
   "id": "603e83eb",
   "metadata": {},
   "outputs": [
    {
     "ename": "LoadError",
     "evalue": "SystemError: opening file \"/home/antonxue/stuff/nn-sdp/dump/sparsity/Zbeta2.png\": No such file or directory",
     "output_type": "error",
     "traceback": [
      "SystemError: opening file \"/home/antonxue/stuff/nn-sdp/dump/sparsity/Zbeta2.png\": No such file or directory",
      "",
      "Stacktrace:",
      "  [1] systemerror(p::String, errno::Int32; extrainfo::Nothing)",
      "    @ Base ./error.jl:174",
      "  [2] #systemerror#68",
      "    @ ./error.jl:173 [inlined]",
      "  [3] systemerror",
      "    @ ./error.jl:173 [inlined]",
      "  [4] open(fname::String; lock::Bool, read::Nothing, write::Nothing, create::Nothing, truncate::Bool, append::Nothing)",
      "    @ Base ./iostream.jl:293",
      "  [5] open(fname::String, mode::String; lock::Bool)",
      "    @ Base ./iostream.jl:355",
      "  [6] open(fname::String, mode::String)",
      "    @ Base ./iostream.jl:355",
      "  [7] open(::Plots.var\"#269#270\"{Plots.Plot{Plots.PyPlotBackend}}, ::String, ::Vararg{String}; kwargs::Base.Pairs{Symbol, Union{}, Tuple{}, NamedTuple{(), Tuple{}}})",
      "    @ Base ./io.jl:328",
      "  [8] open",
      "    @ ./io.jl:328 [inlined]",
      "  [9] png(plt::Plots.Plot{Plots.PyPlotBackend}, fn::String)",
      "    @ Plots ~/.julia/packages/Plots/dNEbX/src/output.jl:5",
      " [10] savefig(plt::Plots.Plot{Plots.PyPlotBackend}, fn::String)",
      "    @ Plots ~/.julia/packages/Plots/dNEbX/src/output.jl:121",
      " [11] top-level scope",
      "    @ In[14]:2",
      " [12] eval",
      "    @ ./boot.jl:373 [inlined]",
      " [13] include_string(mapexpr::typeof(REPL.softscope), mod::Module, code::String, filename::String)",
      "    @ Base ./loading.jl:1196"
     ]
    }
   ],
   "source": [
    "saveto = joinpath(DUMP_DIR, \"Zbeta$(beta).png\")\n",
    "savefig(plt, saveto)"
   ]
  },
  {
   "cell_type": "code",
   "execution_count": null,
   "id": "68baf158",
   "metadata": {},
   "outputs": [],
   "source": []
  },
  {
   "cell_type": "code",
   "execution_count": 15,
   "id": "b9fda3f4",
   "metadata": {},
   "outputs": [
    {
     "data": {
      "image/png": "[encoded data removed]"
     },
     "execution_count": 15,
     "metadata": {},
     "output_type": "execute_result"
    }
   ],
   "source": [
    "beta = 4\n",
    "\n",
    "plt = spy(quickEK(),\n",
    "  marker = (:star5, 8.0, \"red\"),\n",
    "  azis=([], false)\n",
    ")\n",
    "\n",
    "plt = spy!(plt, quickRawZ(beta),\n",
    "  marker = (:square, 8.0, \"gray\"),\n",
    "  axis=([], false),\n",
    ")"
   ]
  },
  {
   "cell_type": "code",
   "execution_count": 16,
   "id": "452fc8f4",
   "metadata": {},
   "outputs": [
    {
     "ename": "LoadError",
     "evalue": "SystemError: opening file \"/home/antonxue/stuff/nn-sdp/dump/sparsity/Zbeta4.png\": No such file or directory",
     "output_type": "error",
     "traceback": [
      "SystemError: opening file \"/home/antonxue/stuff/nn-sdp/dump/sparsity/Zbeta4.png\": No such file or directory",
      "",
      "Stacktrace:",
      "  [1] systemerror(p::String, errno::Int32; extrainfo::Nothing)",
      "    @ Base ./error.jl:174",
      "  [2] #systemerror#68",
      "    @ ./error.jl:173 [inlined]",
      "  [3] systemerror",
      "    @ ./error.jl:173 [inlined]",
      "  [4] open(fname::String; lock::Bool, read::Nothing, write::Nothing, create::Nothing, truncate::Bool, append::Nothing)",
      "    @ Base ./iostream.jl:293",
      "  [5] open(fname::String, mode::String; lock::Bool)",
      "    @ Base ./iostream.jl:355",
      "  [6] open(fname::String, mode::String)",
      "    @ Base ./iostream.jl:355",
      "  [7] open(::Plots.var\"#269#270\"{Plots.Plot{Plots.PyPlotBackend}}, ::String, ::Vararg{String}; kwargs::Base.Pairs{Symbol, Union{}, Tuple{}, NamedTuple{(), Tuple{}}})",
      "    @ Base ./io.jl:328",
      "  [8] open",
      "    @ ./io.jl:328 [inlined]",
      "  [9] png(plt::Plots.Plot{Plots.PyPlotBackend}, fn::String)",
      "    @ Plots ~/.julia/packages/Plots/dNEbX/src/output.jl:5",
      " [10] savefig(plt::Plots.Plot{Plots.PyPlotBackend}, fn::String)",
      "    @ Plots ~/.julia/packages/Plots/dNEbX/src/output.jl:121",
      " [11] top-level scope",
      "    @ In[16]:2",
      " [12] eval",
      "    @ ./boot.jl:373 [inlined]",
      " [13] include_string(mapexpr::typeof(REPL.softscope), mod::Module, code::String, filename::String)",
      "    @ Base ./loading.jl:1196"
     ]
    }
   ],
   "source": [
    "saveto = joinpath(DUMP_DIR, \"Zbeta$(beta).png\")\n",
    "savefig(plt, saveto)"
   ]
  },
  {
   "cell_type": "code",
   "execution_count": null,
   "id": "efbf4dcf",
   "metadata": {},
   "outputs": [],
   "source": []
  },
  {
   "cell_type": "code",
   "execution_count": null,
   "id": "b3732c90",
   "metadata": {},
   "outputs": [],
   "source": []
  },
  {
   "cell_type": "code",
   "execution_count": null,
   "id": "6561fc8f",
   "metadata": {},
   "outputs": [],
   "source": []
  },
  {
   "cell_type": "code",
   "execution_count": null,
   "id": "9407bb50",
   "metadata": {},
   "outputs": [],
   "source": []
  }
 ],
 "metadata": {
  "kernelspec": {
   "display_name": "Julia 1.7.2",
   "language": "julia",
   "name": "julia-1.7"
  },
  "language_info": {
   "file_extension": ".jl",
   "mimetype": "application/julia",
   "name": "julia",
   "version": "1.7.2"
  }
 },
 "nbformat": 4,
 "nbformat_minor": 5
}
