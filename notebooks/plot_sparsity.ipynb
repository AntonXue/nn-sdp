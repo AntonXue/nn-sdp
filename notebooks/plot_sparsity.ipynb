{
 "cells": [
  {
   "cell_type": "code",
   "execution_count": 1,
   "id": "04c2bf41",
   "metadata": {},
   "outputs": [],
   "source": [
    "using LinearAlgebra\n",
    "using Plots"
   ]
  },
  {
   "cell_type": "code",
   "execution_count": 2,
   "id": "ec10b122",
   "metadata": {},
   "outputs": [],
   "source": [
    "DUMP_DIR = joinpath(@__DIR__, \"..\", \"dump\", \"sparsity\")\n",
    "NNSDP_PATH = joinpath(@__DIR__, \"..\", \"src\", \"NnSdp.jl\")\n",
    "include(NNSDP_PATH); using .NnSdp"
   ]
  },
  {
   "cell_type": "code",
   "execution_count": null,
   "id": "96c4bba9",
   "metadata": {},
   "outputs": [],
   "source": []
  },
  {
   "cell_type": "code",
   "execution_count": 3,
   "id": "9436e8db",
   "metadata": {},
   "outputs": [],
   "source": [
    "# colors = theme_palette(:auto)\n",
    "colors = palette(:tab10)\n",
    "\n",
    "xdims = [3;3;3;3;4;3;3]\n",
    "ffnet = randomNetwork(xdims)\n",
    "zdims = ffnet.zdims\n",
    "N = sum(zdims[1:end-1])\n",
    "K = ffnet.K\n",
    "\n",
    "S(k) = sum(ffnet.xdims[1:k])\n",
    "\n",
    "E1 = E(1, ffnet.zdims)\n",
    "EK = E(K, ffnet.zdims)\n",
    "Ea = E(K+1, ffnet.zdims)\n",
    "Ein = [E1; Ea]\n",
    "Eout = [E1; EK; Ea]\n",
    ";"
   ]
  },
  {
   "cell_type": "code",
   "execution_count": null,
   "id": "06ef3d6d",
   "metadata": {},
   "outputs": [],
   "source": []
  },
  {
   "cell_type": "code",
   "execution_count": 4,
   "id": "e60666fa",
   "metadata": {},
   "outputs": [
    {
     "data": {
      "text/plain": [
       "quickClique (generic function with 1 method)"
      ]
     },
     "execution_count": 4,
     "metadata": {},
     "output_type": "execute_result"
    }
   ],
   "source": [
    "hots(X) = map(x -> (x != 0), X)\n",
    "\n",
    "function quickEM(beta)\n",
    "  Z = zeros(N+1, N+1)\n",
    "  for k = 1:K-1\n",
    "    for i = 1:N\n",
    "      for j = 1:N\n",
    "        Z[i,j] += ((S(k-1)+1 <= i <= S(k+1)+beta)\n",
    "                && (S(k-1)+1 <= j <= S(k+1)+beta))\n",
    "      end\n",
    "    end\n",
    "  end\n",
    "  return hots(Z)\n",
    "end\n",
    "\n",
    "function quickE1K()\n",
    "  Z = zeros(N+1, N+1)\n",
    "  for i in 1:N\n",
    "    for j in 1:N\n",
    "      Z[i,j] += ((1 <= i <= xdims[1] && S(K-1)+1 <= j <= N)\n",
    "               || (1 <= j <= xdims[1] && S(K-1)+1 <= i <= N))\n",
    "    end\n",
    "  end\n",
    "  return hots(Z)\n",
    "end\n",
    "\n",
    "function quickEK()\n",
    "  Z = zeros(N+1, N+1)\n",
    "  for i in 1:N\n",
    "    for j in 1:N\n",
    "      Z[i,j] += (S(K-1)+1 <= j <= N) || (S(K-1)+1 <= i <= N)\n",
    "    end\n",
    "  end\n",
    "  return hots(Z)\n",
    "end\n",
    "\n",
    "function quickEa()\n",
    "  Z = zeros(N+1, N+1)\n",
    "  for i in 1:N+1\n",
    "    for j in 1:N+1\n",
    "      Z[i,j] += (i == N+1) || (j == N+1)\n",
    "    end\n",
    "  end\n",
    "  return hots(Z)\n",
    "end\n",
    "\n",
    "function quickRawZ(beta)\n",
    "  return quickEM(beta) + quickE1K() + quickEa()\n",
    "end\n",
    "\n",
    "function quickClique(beta, k)\n",
    "  Z = zeros(N+1, N+1)\n",
    "  for i in 1:N+1\n",
    "    for j in 1:N+1\n",
    "        condia = S(k-1) + 1 <= i <= S(k+1) + beta\n",
    "        condja = S(k-1) + 1 <= j <= S(k+1) + beta\n",
    "        condib = S(K-1) + 1 <= i <= N+1\n",
    "        condjb = S(K-1) + 1 <= j <= N+1\n",
    "        Z[i,j] += (condia || condib) && (condja || condjb)\n",
    "    end\n",
    "  end\n",
    "  return hots(Z)\n",
    "end\n"
   ]
  },
  {
   "cell_type": "code",
   "execution_count": 14,
   "id": "6fcd85bd",
   "metadata": {},
   "outputs": [
    {
     "data": {
      "image/png": "[encoded data removed]",
      "text/plain": [
       "PyPlot.Figure(PyObject <Figure size 600x400 with 1 Axes>)"
      ]
     },
     "metadata": {},
     "output_type": "display_data"
    }
   ],
   "source": [
    "beta = 0\n",
    "plt = spy(quickEM(beta), marker=(:square, 8.0, colors[1]), axis=([], false))\n",
    "spy!(quickE1K(), marker=(:square, 8.0, colors[2]), axis=([], false))\n",
    "spy!(quickEa(), marker=(:square, 8.0, colors[3]), axis=([], false))\n",
    "savefig(plt, joinpath(DUMP_DIR, \"Zrawbeta$(beta).png\"))\n",
    "# plt"
   ]
  },
  {
   "cell_type": "code",
   "execution_count": null,
   "id": "92058fa2",
   "metadata": {},
   "outputs": [],
   "source": []
  },
  {
   "cell_type": "code",
   "execution_count": null,
   "id": "91824612",
   "metadata": {},
   "outputs": [],
   "source": []
  },
  {
   "cell_type": "code",
   "execution_count": 15,
   "id": "3c661907",
   "metadata": {},
   "outputs": [
    {
     "data": {
      "image/png": "[encoded data removed]",
      "text/plain": [
       "PyPlot.Figure(PyObject <Figure size 600x400 with 1 Axes>)"
      ]
     },
     "metadata": {},
     "output_type": "display_data"
    }
   ],
   "source": [
    "beta = 2\n",
    "plt = spy(quickEM(beta), marker=(:square, 8.0, colors[1]), axis=([], false))\n",
    "spy!(quickE1K(), marker=(:square, 8.0, colors[2]), axis=([], false))\n",
    "spy!(quickEa(), marker=(:square, 8.0, colors[3]), axis=([], false))\n",
    "savefig(plt, joinpath(DUMP_DIR, \"Zrawbeta$(beta).png\"))\n",
    "# plt"
   ]
  },
  {
   "cell_type": "code",
   "execution_count": null,
   "id": "7341c0d5",
   "metadata": {},
   "outputs": [],
   "source": []
  },
  {
   "cell_type": "code",
   "execution_count": null,
   "id": "aad63b3b",
   "metadata": {},
   "outputs": [],
   "source": []
  },
  {
   "cell_type": "code",
   "execution_count": 16,
   "id": "beb4e056",
   "metadata": {},
   "outputs": [
    {
     "data": {
      "image/png": "[encoded data removed]",
      "text/plain": [
       "PyPlot.Figure(PyObject <Figure size 600x400 with 1 Axes>)"
      ]
     },
     "metadata": {},
     "output_type": "display_data"
    }
   ],
   "source": [
    "beta = 4\n",
    "plt = spy(quickEM(beta), marker=(:square, 8.0, colors[1]), axis=([], false))\n",
    "spy!(quickE1K(), marker=(:square, 8.0, colors[2]), axis=([], false))\n",
    "spy!(quickEa(), marker=(:square, 8.0, colors[3]), axis=([], false))\n",
    "savefig(plt, joinpath(DUMP_DIR, \"Zrawbeta$(beta).png\"))\n",
    "# plt"
   ]
  },
  {
   "cell_type": "code",
   "execution_count": null,
   "id": "f6a2f6e4",
   "metadata": {},
   "outputs": [],
   "source": []
  },
  {
   "cell_type": "code",
   "execution_count": null,
   "id": "7ee0b426",
   "metadata": {},
   "outputs": [],
   "source": []
  },
  {
   "cell_type": "code",
   "execution_count": 17,
   "id": "0f64b0d0",
   "metadata": {},
   "outputs": [
    {
     "data": {
      "image/png": "[encoded data removed]",
      "text/plain": [
       "PyPlot.Figure(PyObject <Figure size 600x400 with 1 Axes>)"
      ]
     },
     "metadata": {},
     "output_type": "display_data"
    }
   ],
   "source": [
    "beta = 0\n",
    "\n",
    "plt = spy(quickEK(),\n",
    "  marker = (:square, 8.0, \"red\"),\n",
    "  axis=([], false)\n",
    ")\n",
    "\n",
    "plt = spy!(plt, quickRawZ(beta),\n",
    "  marker = (:square, 8.0, \"gray\"),\n",
    "  axis=([], false),\n",
    ")\n",
    "savefig(plt, joinpath(DUMP_DIR, \"Zbeta$(beta).png\"))\n",
    "# plt"
   ]
  },
  {
   "cell_type": "code",
   "execution_count": null,
   "id": "e0d97d9e",
   "metadata": {},
   "outputs": [],
   "source": []
  },
  {
   "cell_type": "code",
   "execution_count": null,
   "id": "3f8476d3",
   "metadata": {},
   "outputs": [],
   "source": []
  },
  {
   "cell_type": "code",
   "execution_count": 18,
   "id": "72bd5772",
   "metadata": {},
   "outputs": [
    {
     "data": {
      "image/png": "[encoded data removed]",
      "text/plain": [
       "PyPlot.Figure(PyObject <Figure size 600x400 with 1 Axes>)"
      ]
     },
     "metadata": {},
     "output_type": "display_data"
    }
   ],
   "source": [
    "beta = 2\n",
    "\n",
    "plt = spy(quickEK(),\n",
    "  marker = (:square, 8.0, \"red\"),\n",
    "  axis=([], false)\n",
    ")\n",
    "\n",
    "plt = spy!(plt, quickRawZ(beta),\n",
    "  marker = (:square, 8.0, \"gray\"),\n",
    "  axis=([], false),\n",
    ")\n",
    "savefig(plt, joinpath(DUMP_DIR, \"Zbeta$(beta).png\"))\n",
    "# plt"
   ]
  },
  {
   "cell_type": "code",
   "execution_count": null,
   "id": "603e83eb",
   "metadata": {},
   "outputs": [],
   "source": []
  },
  {
   "cell_type": "code",
   "execution_count": null,
   "id": "68baf158",
   "metadata": {},
   "outputs": [],
   "source": []
  },
  {
   "cell_type": "code",
   "execution_count": 19,
   "id": "b9fda3f4",
   "metadata": {},
   "outputs": [
    {
     "data": {
      "image/png": "[encoded data removed]",
      "text/plain": [
       "PyPlot.Figure(PyObject <Figure size 600x400 with 1 Axes>)"
      ]
     },
     "metadata": {},
     "output_type": "display_data"
    }
   ],
   "source": [
    "beta = 4\n",
    "\n",
    "plt = spy(quickEK(),\n",
    "  marker = (:square, 8.0, \"red\"),\n",
    "  axis=([], false)\n",
    ")\n",
    "\n",
    "plt = spy!(plt, quickRawZ(beta),\n",
    "  marker = (:square, 8.0, \"gray\"),\n",
    "  axis=([], false),\n",
    ")\n",
    "\n",
    "savefig(plt, joinpath(DUMP_DIR, \"Zbeta$(beta).png\"))\n",
    "# plt"
   ]
  },
  {
   "cell_type": "code",
   "execution_count": null,
   "id": "efbf4dcf",
   "metadata": {},
   "outputs": [],
   "source": []
  },
  {
   "cell_type": "code",
   "execution_count": null,
   "id": "b3732c90",
   "metadata": {},
   "outputs": [],
   "source": []
  },
  {
   "cell_type": "code",
   "execution_count": 23,
   "id": "6561fc8f",
   "metadata": {
    "scrolled": false
   },
   "outputs": [
    {
     "data": {
      "image/png": "[encoded data removed]",
      "text/plain": [
       "PyPlot.Figure(PyObject <Figure size 600x400 with 1 Axes>)"
      ]
     },
     "metadata": {},
     "output_type": "display_data"
    }
   ],
   "source": [
    "beta = 2\n",
    "\n",
    "plt = spy(hots(quickEK() + quickRawZ(beta)),\n",
    "  marker = (:square, 8.0, \"gray\"),\n",
    "  axis=([], false)\n",
    ")\n",
    "\n",
    "plt = spy!(plt, quickClique(beta, 1),\n",
    "  marker = (:square, 8.0, \"red\"),\n",
    "  axis=([], false),\n",
    ")\n",
    "\n",
    "savefig(plt, joinpath(DUMP_DIR, \"Zbeta$(beta)-clique1.png\"));\n",
    "# plt"
   ]
  },
  {
   "cell_type": "code",
   "execution_count": null,
   "id": "dd427027",
   "metadata": {},
   "outputs": [],
   "source": []
  },
  {
   "cell_type": "code",
   "execution_count": 24,
   "id": "92bbb2f4",
   "metadata": {},
   "outputs": [
    {
     "data": {
      "image/png": "[encoded data removed]",
      "text/plain": [
       "PyPlot.Figure(PyObject <Figure size 600x400 with 1 Axes>)"
      ]
     },
     "metadata": {},
     "output_type": "display_data"
    }
   ],
   "source": [
    "beta = 2\n",
    "\n",
    "plt = spy(quickClique(beta, 2),\n",
    "  marker = (:square, 8.0, \"red\"),\n",
    "  axis=([], false),\n",
    ")\n",
    "\n",
    "plt = spy!(plt, hots(quickEK() + quickRawZ(beta)) - hots(quickClique(beta, 2)),\n",
    "  marker = (:square, 8.0, \"gray\"),\n",
    "  axis=([], false)\n",
    ")\n",
    "\n",
    "\n",
    "savefig(plt, joinpath(DUMP_DIR, \"Zbeta$(beta)-clique2.png\"));"
   ]
  },
  {
   "cell_type": "code",
   "execution_count": null,
   "id": "0e2e3acb",
   "metadata": {},
   "outputs": [],
   "source": []
  },
  {
   "cell_type": "code",
   "execution_count": null,
   "id": "e953c0c6",
   "metadata": {},
   "outputs": [],
   "source": []
  },
  {
   "cell_type": "code",
   "execution_count": 25,
   "id": "9407bb50",
   "metadata": {},
   "outputs": [
    {
     "data": {
      "image/png": "[encoded data removed]",
      "text/plain": [
       "PyPlot.Figure(PyObject <Figure size 600x400 with 1 Axes>)"
      ]
     },
     "metadata": {},
     "output_type": "display_data"
    }
   ],
   "source": [
    "beta = 2\n",
    "\n",
    "plt = spy(quickClique(beta, 3),\n",
    "  marker = (:square, 8.0, \"red\"),\n",
    "  axis=([], false),\n",
    ")\n",
    "\n",
    "\n",
    "plt = spy!(plt, hots(quickEK() + quickRawZ(beta)) - hots(quickClique(beta, 3)),\n",
    "  marker = (:square, 8.0, \"gray\"),\n",
    "  axis=([], false)\n",
    ")\n",
    "\n",
    "\n",
    "savefig(plt, joinpath(DUMP_DIR, \"Zbeta$(beta)-clique3.png\"));"
   ]
  },
  {
   "cell_type": "code",
   "execution_count": null,
   "id": "3f568e49",
   "metadata": {},
   "outputs": [],
   "source": []
  },
  {
   "cell_type": "code",
   "execution_count": null,
   "id": "b4a41cad",
   "metadata": {},
   "outputs": [],
   "source": []
  },
  {
   "cell_type": "code",
   "execution_count": null,
   "id": "22ed8680",
   "metadata": {},
   "outputs": [],
   "source": []
  },
  {
   "cell_type": "code",
   "execution_count": null,
   "id": "7bf04b9b",
   "metadata": {},
   "outputs": [],
   "source": []
  }
 ],
 "metadata": {
  "kernelspec": {
   "display_name": "Julia 1.7.2",
   "language": "julia",
   "name": "julia-1.7"
  },
  "language_info": {
   "file_extension": ".jl",
   "mimetype": "application/julia",
   "name": "julia",
   "version": "1.7.2"
  }
 },
 "nbformat": 4,
 "nbformat_minor": 5
}
